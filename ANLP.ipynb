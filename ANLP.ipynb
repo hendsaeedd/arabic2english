{
 "cells": [
  {
   "cell_type": "markdown",
   "id": "900a5a74",
   "metadata": {},
   "source": [
    "# import libraries"
   ]
  },
  {
   "cell_type": "code",
   "execution_count": 1,
   "id": "01776ed2",
   "metadata": {},
   "outputs": [],
   "source": [
    "import nltk\n",
    "#to open csv file\n",
    "import csv\n",
    "import pandas as pd\n",
    "import numpy as np\n",
    "#sentences & words tokenization\n",
    "from nltk.tokenize import sent_tokenize, word_tokenize\n",
    "#regular expression \n",
    "import re\n",
    "#for stopwords\n",
    "from nltk.corpus import stopwords\n",
    "import string\n",
    "# from nltk.stem import WordNetLemmatizer, PorterStemmer\n",
    "from nltk.stem import ISRIStemmer\n",
    "from nltk.stem import WordNetLemmatizer"
   ]
  },
  {
   "cell_type": "code",
   "execution_count": 2,
   "id": "92c4d07d",
   "metadata": {},
   "outputs": [
    {
     "name": "stderr",
     "output_type": "stream",
     "text": [
      "[nltk_data] Downloading package punkt to\n",
      "[nltk_data]     C:\\Users\\hends\\AppData\\Roaming\\nltk_data...\n",
      "[nltk_data]   Package punkt is already up-to-date!\n",
      "[nltk_data] Downloading package stopwords to\n",
      "[nltk_data]     C:\\Users\\hends\\AppData\\Roaming\\nltk_data...\n",
      "[nltk_data]   Package stopwords is already up-to-date!\n",
      "[nltk_data] Downloading package wordnet to\n",
      "[nltk_data]     C:\\Users\\hends\\AppData\\Roaming\\nltk_data...\n",
      "[nltk_data]   Package wordnet is already up-to-date!\n"
     ]
    },
    {
     "data": {
      "text/plain": [
       "True"
      ]
     },
     "execution_count": 2,
     "metadata": {},
     "output_type": "execute_result"
    }
   ],
   "source": [
    "#for preprocessing\n",
    "nltk.download('punkt')\n",
    "nltk.download('stopwords')\n",
    "nltk.download('wordnet')"
   ]
  },
  {
   "cell_type": "markdown",
   "id": "82fd4777",
   "metadata": {},
   "source": [
    "# csv path"
   ]
  },
  {
   "cell_type": "code",
   "execution_count": 3,
   "id": "896b7a0e",
   "metadata": {},
   "outputs": [],
   "source": [
    "# dataset_path = r''"
   ]
  },
  {
   "cell_type": "code",
   "execution_count": 4,
   "id": "094465a6",
   "metadata": {},
   "outputs": [],
   "source": [
    "# dataset = pd.read_csv(dataset_path, encoding=\"ISO-8859-1\")\n",
    "# dataset.head()\n",
    "#UnicodeDecodeError: 'utf-8' codec can't decode byte 0x85 in position 25560: invalid start byte"
   ]
  },
  {
   "cell_type": "code",
   "execution_count": 5,
   "id": "37c966b1",
   "metadata": {},
   "outputs": [],
   "source": [
    "text='مصر، البلد العريق الواقع في شمال شرق إفريقيا وجنوب غرب آسيا، تتميز بتاريخها العريق الذي يعود إلى آلاف السنين. تعتبر مصر موطنًا لإحدى أقدم الحضارات في التاريخ، حضارة الفراعنة، التي ازدهرت على ضفاف نهر النيل. وتشتهر مصر بتنوع ثقافاتها وتراثها الغني، حيث يمكن للزائر أن يستكشف آثار الهرمات الضخمة والأهرامات، ومعابد الأقصر والكرنك الرائعة. بالإضافة إلى ذلك، تتميز مصر بجمال طبيعي فريد، بما في ذلك شواطئها الرملية الذهبية على سواحل البحر الأحمر والبحر المتوسط، والصحاري الشاسعة في جنوبها. تعتبر القاهرة، عاصمة مصر، مركزًا حيويًا للحياة الثقافية والاقتصادية، حيث يجتمع فيها التقليد والحداثة بجانبٍ واحد.'"
   ]
  },
  {
   "cell_type": "markdown",
   "id": "c9b68fc9",
   "metadata": {},
   "source": [
    "# preprocessing function"
   ]
  },
  {
   "cell_type": "code",
   "execution_count": 6,
   "id": "6aa74211",
   "metadata": {},
   "outputs": [],
   "source": [
    "def preprocess_text(text):\n",
    "    # Apply lowercase\n",
    "    text = text.lower()\n",
    "    # Tokenize text\n",
    "    tokens = word_tokenize(text)\n",
    "    # Remove Arabic stopwords\n",
    "    stop_words = set(stopwords.words('arabic'))\n",
    "    tokens = [token for token in tokens if token not in stop_words]\n",
    "    # Remove Arabic punctuation and other non-alphanumeric characters\n",
    "    tokens = [re.sub(r'[^\\w\\s]', '', token) for token in tokens]\n",
    "    # Remove empty tokens\n",
    "    tokens = [token for token in tokens if token]\n",
    "    # Apply lemmatization\n",
    "    lemmatizer = WordNetLemmatizer()\n",
    "    tokens = [lemmatizer.lemmatize(token) for token in tokens]\n",
    "    # Apply stemming\n",
    "    stemmer = ISRIStemmer()\n",
    "    tokens = [stemmer.stem(token) for token in tokens]\n",
    "    return tokens"
   ]
  },
  {
   "cell_type": "code",
   "execution_count": 7,
   "id": "0acd7071",
   "metadata": {},
   "outputs": [
    {
     "name": "stdout",
     "output_type": "stream",
     "text": [
      "مصر، البلد العريق الواقع في شمال شرق إفريقيا وجنوب غرب آسيا، تتميز بتاريخها العريق الذي يعود إلى آلاف السنين. تعتبر مصر موطنًا لإحدى أقدم الحضارات في التاريخ، حضارة الفراعنة، التي ازدهرت على ضفاف نهر النيل. وتشتهر مصر بتنوع ثقافاتها وتراثها الغني، حيث يمكن للزائر أن يستكشف آثار الهرمات الضخمة والأهرامات، ومعابد الأقصر والكرنك الرائعة. بالإضافة إلى ذلك، تتميز مصر بجمال طبيعي فريد، بما في ذلك شواطئها الرملية الذهبية على سواحل البحر الأحمر والبحر المتوسط، والصحاري الشاسعة في جنوبها. تعتبر القاهرة، عاصمة مصر، مركزًا حيويًا للحياة الثقافية والاقتصادية، حيث يجتمع فيها التقليد والحداثة بجانبٍ واحد.\n",
      "________________________________________________________________________________________________________________________\n",
      "['مصر', 'بلد', 'عرق', 'وقع', 'شرق', 'فرق', 'جنب', 'غرب', 'اسا', 'تمز', 'ارخ', 'عرق', 'يعد', 'الف', 'سنن', 'عبر', 'مصر', 'موط', 'إحدى', 'قدم', 'حضر', 'ارخ', 'حضر', 'فرع', 'زدهر', 'ضفف', 'نهر', 'نيل', 'شهر', 'مصر', 'تنع', 'ثقف', 'ترث', 'غني', 'يمكن', 'زئر', 'كشف', 'اثر', 'هرم', 'ضخم', 'هرم', 'عبد', 'قصر', 'كرن', 'رئع', 'ضفة', 'ذلك', 'تمز', 'مصر', 'جمل', 'طبع', 'فرد', 'شطئ', 'رمل', 'ذهب', 'سحل', 'بحر', 'حمر', 'بحر', 'توسط', 'صحر', 'شسع', 'جنب', 'عبر', 'قهر', 'عصم', 'مصر', 'ركز', 'حيو', 'حية', 'ثقف', 'اقتصادية', 'جمع', 'قلد', 'حدث', 'جنب']\n"
     ]
    }
   ],
   "source": [
    "print(text)\n",
    "print('___'*40)\n",
    "print(preprocess_text(text))"
   ]
  },
  {
   "cell_type": "code",
   "execution_count": 8,
   "id": "1485c990",
   "metadata": {},
   "outputs": [
    {
     "name": "stdout",
     "output_type": "stream",
     "text": [
      "hello world\n"
     ]
    }
   ],
   "source": [
    "print('hello world')"
   ]
  },
  {
   "cell_type": "code",
   "execution_count": null,
   "id": "6ad210ab",
   "metadata": {},
   "outputs": [],
   "source": []
  }
 ],
 "metadata": {
  "kernelspec": {
   "display_name": "Python 3 (ipykernel)",
   "language": "python",
   "name": "python3"
  },
  "language_info": {
   "codemirror_mode": {
    "name": "ipython",
    "version": 3
   },
   "file_extension": ".py",
   "mimetype": "text/x-python",
   "name": "python",
   "nbconvert_exporter": "python",
   "pygments_lexer": "ipython3",
   "version": "3.11.5"
  }
 },
 "nbformat": 4,
 "nbformat_minor": 5
}
